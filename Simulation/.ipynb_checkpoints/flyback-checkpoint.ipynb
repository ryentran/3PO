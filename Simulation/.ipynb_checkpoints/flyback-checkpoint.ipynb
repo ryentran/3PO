{
 "cells": [
  {
   "cell_type": "markdown",
   "metadata": {},
   "source": [
    "### Part Values"
   ]
  },
  {
   "cell_type": "code",
   "execution_count": 1,
   "metadata": {},
   "outputs": [],
   "source": [
    "V_in = 3.3\n",
    "V_out = 8\n",
    "f = 100e3\n",
    "\n",
    "N_1 = 1\n",
    "N_2 = 10\n",
    "R = 1\n",
    "C = 100e-6"
   ]
  },
  {
   "cell_type": "code",
   "execution_count": null,
   "metadata": {},
   "outputs": [],
   "source": []
  },
  {
   "cell_type": "code",
   "execution_count": 2,
   "metadata": {},
   "outputs": [],
   "source": [
    "D = (V_out*N_1)/(V_in*N_2+V_out*N_1)"
   ]
  },
  {
   "cell_type": "code",
   "execution_count": 3,
   "metadata": {},
   "outputs": [],
   "source": [
    "I_Lm = V_out**2/(V_in*D*R)"
   ]
  },
  {
   "cell_type": "code",
   "execution_count": 4,
   "metadata": {},
   "outputs": [],
   "source": [
    "I_in = I_Lm*D"
   ]
  },
  {
   "cell_type": "code",
   "execution_count": 5,
   "metadata": {},
   "outputs": [],
   "source": [
    "L_min = (1-D)**2*R/(2*f)*(N_1/N_2)**2"
   ]
  },
  {
   "cell_type": "code",
   "execution_count": 6,
   "metadata": {},
   "outputs": [],
   "source": [
    "V_ripple = D/(R*C*f)*100"
   ]
  },
  {
   "cell_type": "code",
   "execution_count": 7,
   "metadata": {},
   "outputs": [
    {
     "name": "stdout",
     "output_type": "stream",
     "text": [
      "Duty Cycle = 0.1951219512195122\n",
      "L = 3.239143367043427e-08\n",
      "I_Lm = 99.39393939393939\n",
      "I_Lm = 19.393939393939394\n",
      "Voltage Ripple = 1.951219512195122 %\n"
     ]
    }
   ],
   "source": [
    "print('Duty Cycle = {}'.format(D))\n",
    "print('L = {}'.format(L_min))\n",
    "print('I_Lm = {}'.format(I_Lm))\n",
    "print('I_Lm = {}'.format(I_in))\n",
    "print('Voltage Ripple = {} %'.format(V_ripple))"
   ]
  },
  {
   "cell_type": "code",
   "execution_count": null,
   "metadata": {},
   "outputs": [],
   "source": []
  }
 ],
 "metadata": {
  "kernelspec": {
   "display_name": "Python 3",
   "language": "python",
   "name": "python3"
  },
  "language_info": {
   "codemirror_mode": {
    "name": "ipython",
    "version": 3
   },
   "file_extension": ".py",
   "mimetype": "text/x-python",
   "name": "python",
   "nbconvert_exporter": "python",
   "pygments_lexer": "ipython3",
   "version": "3.8.5"
  }
 },
 "nbformat": 4,
 "nbformat_minor": 4
}
